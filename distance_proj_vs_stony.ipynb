{
 "cells": [
  {
   "cell_type": "code",
   "execution_count": 1,
   "metadata": {},
   "outputs": [
    {
     "name": "stdout",
     "output_type": "stream",
     "text": [
      "HPS dist in pixels:  5.656854249492381\n",
      "HPS dist in arcsec:  1.4142135623730951\n",
      "HGS dist in deg:  0.0987377002501569\n"
     ]
    }
   ],
   "source": [
    "# Code to check what a distance in pixels corresponds to a distance in degress in Heliographic units\n",
    "\n",
    "import astropy.units as u\n",
    "from astropy.coordinates import SkyCoord\n",
    "from sunpy.coordinates import frames\n",
    "import numpy as np\n",
    "\n",
    "# How many pixels to move in both x, y\n",
    "pixshift=2\n",
    "pixsize=0.5\n",
    "print('HPS dist in pixels: ',np.sqrt(2*(pixshift/pixsize)**2))\n",
    "\n",
    "obstime=\"2018-04-09 15:00:00\"\n",
    "# Where in maps in arcsec coords in Helioprojective\n",
    "c1=np.array([-105.,-400.])\n",
    "# c1=np.array([-150.,-420.])\n",
    "c2=c1+pixshift*pixsize\n",
    "\n",
    "# For the pixelshift what is the distance in Helioprojective arcsec\n",
    "hpc_dist=np.linalg.norm(c2-c1)\n",
    "print('HPS dist in arcsec: ',hpc_dist)\n",
    "\n",
    "# Setup coords in SkyCoord\n",
    "hpc1 = SkyCoord(c1[0]*u.arcsec, c1[1]*u.arcsec, obstime=obstime, frame=frames.Helioprojective)\n",
    "hpc2 = SkyCoord(c2[0]*u.arcsec, c2[1]*u.arcsec, obstime=obstime, frame=frames.Helioprojective)\n",
    "\n",
    "# Then convert to Heliographic coords\n",
    "hgc1=hpc1.transform_to(frames.HeliographicStonyhurst)\n",
    "hgc2=hpc2.transform_to(frames.HeliographicStonyhurst)\n",
    "\n",
    "# Get the Heliographics lon and lat in degs\n",
    "p1=np.array([hgc1.lon.deg,hgc1.lat.deg])\n",
    "p2=np.array([hgc2.lon.deg,hgc2.lat.deg])\n",
    "\n",
    "# Work out the distance in Heliograhic coords and degress\n",
    "hgc_dist=np.linalg.norm(p2-p1)\n",
    "\n",
    "print('HGS dist in deg: ',hgc_dist)"
   ]
  }
 ],
 "metadata": {
  "kernelspec": {
   "display_name": "Python 3",
   "language": "python",
   "name": "python3"
  },
  "language_info": {
   "codemirror_mode": {
    "name": "ipython",
    "version": 3
   },
   "file_extension": ".py",
   "mimetype": "text/x-python",
   "name": "python",
   "nbconvert_exporter": "python",
   "pygments_lexer": "ipython3",
   "version": "3.6.5"
  }
 },
 "nbformat": 4,
 "nbformat_minor": 2
}
